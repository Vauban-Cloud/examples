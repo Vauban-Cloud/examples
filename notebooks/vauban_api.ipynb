{
 "cells": [
  {
   "cell_type": "markdown",
   "metadata": {},
   "source": [
    "## Test prod API notebook"
   ]
  },
  {
   "cell_type": "markdown",
   "metadata": {},
   "source": [
    "This notebook can be used to test prod or dev Vauban API"
   ]
  },
  {
   "cell_type": "code",
   "execution_count": 3,
   "metadata": {},
   "outputs": [],
   "source": [
    "# Put your API key here\n",
    "\n",
    "# DEV\n",
    "API_KEY = \"***REMOVED***\"\n",
    "\n",
    "# TEST\n",
    "# API_KEY = \"\"\n",
    "\n",
    "# PROD\n",
    "# API_KEY = \"\""
   ]
  },
  {
   "cell_type": "code",
   "execution_count": 4,
   "metadata": {},
   "outputs": [],
   "source": [
    "# Put the base URL (prod / dev or local)\n",
    "\n",
    "BASE_URL = \"https://api.vauban.cloud/v1\""
   ]
  },
  {
   "cell_type": "markdown",
   "metadata": {},
   "source": [
    "#### Embedding endpoint"
   ]
  },
  {
   "cell_type": "code",
   "execution_count": null,
   "metadata": {},
   "outputs": [],
   "source": [
    "# With OpenAI\n",
    "\n",
    "from openai import OpenAI\n",
    "\n",
    "client = OpenAI(\n",
    "    api_key=API_KEY,\n",
    "    base_url=BASE_URL\n",
    ")\n",
    "\n",
    "response = client.embeddings.create(\n",
    "    input=\"This is an amazing input\",\n",
    "    model=\"embeddings-v1\"\n",
    ")\n",
    "\n",
    "print(response.json())"
   ]
  },
  {
   "cell_type": "code",
   "execution_count": null,
   "metadata": {},
   "outputs": [],
   "source": [
    "# With requests\n",
    "import requests\n",
    "\n",
    "url = f\"{BASE_URL}/embeddings\"\n",
    "headers = {\n",
    "    \"Content-Type\": \"application/json\",\n",
    "    \"Authorization\": f\"Bearer {API_KEY}\"\n",
    "}\n",
    "data = {\n",
    "    \"input\": \"Hello how are you ?\",\n",
    "}\n",
    "\n",
    "response = requests.post(url, headers=headers, json=data)\n",
    "\n",
    "print(response.json())"
   ]
  },
  {
   "cell_type": "code",
   "execution_count": 16,
   "metadata": {},
   "outputs": [
    {
     "data": {
      "text/plain": [
       "{'id': '1ed44f0e-b5d9-4cf8-99e1-5a860ef9cdf4',\n",
       " 'object': 'list',\n",
       " 'data': [{'object': 'embedding', 'embedding': [], 'index': 0}],\n",
       " 'model': 'embeddings-v1',\n",
       " 'usage': {'prompt_tokens': 0, 'completion_tokens': 0, 'total_tokens': 0}}"
      ]
     },
     "execution_count": 16,
     "metadata": {},
     "output_type": "execute_result"
    }
   ],
   "source": [
    "# With requests\n",
    "import requests\n",
    "\n",
    "url = f\"{BASE_URL}/embeddings\"\n",
    "headers = {\n",
    "    \"Content-Type\": \"application/json\",\n",
    "    \"Authorization\": f\"Bearer {API_KEY}\"\n",
    "}\n",
    "data = {\n",
    "    \"input\": \"Hello how are you ?\",\n",
    "    \"deferred\": True\n",
    "}\n",
    "\n",
    "response = requests.post(url, headers=headers, json=data)\n",
    "resp_dict = response.json()\n",
    "\n",
    "job_id = resp_dict.get('id')\n",
    "resp_dict"
   ]
  },
  {
   "cell_type": "code",
   "execution_count": 21,
   "metadata": {},
   "outputs": [
    {
     "data": {
      "text/plain": [
       "{'status': 'Done'}"
      ]
     },
     "execution_count": 21,
     "metadata": {},
     "output_type": "execute_result"
    }
   ],
   "source": [
    "# Check job status\n",
    "\n",
    "import requests\n",
    "\n",
    "url = f\"{BASE_URL}/jobs/job/{job_id}\"\n",
    "headers = {\n",
    "    \"Content-Type\": \"application/json\",\n",
    "    \"Authorization\": f\"Bearer {API_KEY}\"\n",
    "}\n",
    "\n",
    "response = requests.get(url, headers=headers)\n",
    "response.json()"
   ]
  },
  {
   "cell_type": "code",
   "execution_count": 20,
   "metadata": {},
   "outputs": [
    {
     "data": {
      "text/plain": [
       "{'model': 'embeddings-v1',\n",
       " 'input': ['Hello how are you ?'],\n",
       " 'user': None,\n",
       " 'deferred': True,\n",
       " 'job_name': None,\n",
       " 'id': '1ed44f0e-b5d9-4cf8-99e1-5a860ef9cdf4',\n",
       " 'job_type': 'embeddings',\n",
       " 'status': 'Done'}"
      ]
     },
     "execution_count": 20,
     "metadata": {},
     "output_type": "execute_result"
    }
   ],
   "source": [
    "# Check job input\n",
    "\n",
    "import requests\n",
    "\n",
    "url = f\"{BASE_URL}/jobs/job/{job_id}?status_only=false\"\n",
    "headers = {\n",
    "    \"Content-Type\": \"application/json\",\n",
    "    \"Authorization\": f\"Bearer {API_KEY}\"\n",
    "}\n",
    "\n",
    "response = requests.get(url, headers=headers)\n",
    "response.json()"
   ]
  },
  {
   "cell_type": "code",
   "execution_count": null,
   "metadata": {},
   "outputs": [],
   "source": [
    "# Check job output\n",
    "\n",
    "import requests\n",
    "\n",
    "url = f\"{BASE_URL}/jobs/out/{job_id}?status_only=false\"\n",
    "headers = {\n",
    "    \"Content-Type\": \"application/json\",\n",
    "    \"Authorization\": f\"Bearer {API_KEY}\"\n",
    "}\n",
    "\n",
    "response = requests.get(url, headers=headers)\n",
    "response.json()"
   ]
  },
  {
   "cell_type": "markdown",
   "metadata": {},
   "source": [
    "#### Rerank endpoint"
   ]
  },
  {
   "cell_type": "code",
   "execution_count": 24,
   "metadata": {},
   "outputs": [
    {
     "name": "stdout",
     "output_type": "stream",
     "text": [
      "{'id': '977b5925-b70e-43a1-b674-7aeda9c0d529', 'results': [{'index': 2, 'relevance_score': 0.590172147354083}, {'index': 0, 'relevance_score': 0.4787417495551361}, {'index': 4, 'relevance_score': 0.3494323799858749}, {'index': 1, 'relevance_score': 0.2909402671344156}], 'meta': {'api_version': {'version': '1', 'is_experimental': False}, 'billed_units': {'search_units': 1}}, 'usage': {'prompt_tokens': 0, 'completion_tokens': 0, 'total_tokens': 0}}\n"
     ]
    }
   ],
   "source": [
    "import requests\n",
    "\n",
    "url = f\"{BASE_URL}/rerank\"\n",
    "\n",
    "headers = {\n",
    "    \"Content-Type\": \"application/json\",\n",
    "    \"Authorization\": f\"Bearer {API_KEY}\"\n",
    "}\n",
    "\n",
    "data = {\n",
    "    \"query\": \"What is the capital of the United States?\",\n",
    "    \"model\": \"embeddings-v1\",\n",
    "    \"top_n\": 4,\n",
    "    \"documents\": [\n",
    "        \"Carson City is the capital city of the American state of Nevada.\",\n",
    "        \"The Commonwealth of the Northern Mariana Islands is a group of islands in the Pacific Ocean. Its capital is Saipan.\",\n",
    "        \"Washington, D.C. (also known as simply Washington or D.C., and officially as the District of Columbia) is the capital of the United States. It is a federal district.\",\n",
    "        \"Capitalization or capitalisation in English grammar is the use of a capital letter at the start of a word. English usage varies from capitalization in other languages.\",\n",
    "        \"Capital punishment has existed in the United States since beforethe United States was a country. As of 2017, capital punishment is legal in 30 of the 50 states.\"\n",
    "    ]\n",
    "}\n",
    "\n",
    "response = requests.post(url, headers=headers, json=data)\n",
    "print(response.json())"
   ]
  },
  {
   "cell_type": "code",
   "execution_count": null,
   "metadata": {},
   "outputs": [],
   "source": [
    "import requests\n",
    "\n",
    "url = f\"{BASE_URL}/rerank\"\n",
    "\n",
    "headers = {\n",
    "    \"Content-Type\": \"application/json\",\n",
    "    \"Authorization\": f\"Bearer {API_KEY}\"\n",
    "}\n",
    "\n",
    "data = {\n",
    "    \"query\": \"I want details about a French dessert\",\n",
    "    \"model\": \"embeddings-v1\",\n",
    "    \"top_n\": 4,\n",
    "    \"documents\": [\n",
    "        \"How to make a Panna Cotta\",\n",
    "        \"Home made Bubble tea\",\n",
    "        \"Let's make together some Crêpes\",\n",
    "        \"Home made peanut butter\"\n",
    "    ],\n",
    "    # Just add this line for the async mode\n",
    "    \"deferred\": True\n",
    "}\n",
    "\n",
    "response = requests.post(url, headers=headers, json=data)\n",
    "print(response)\n",
    "resp_dict = response.json()\n",
    "\n",
    "job_id = resp_dict.get('id')\n",
    "resp_dict"
   ]
  },
  {
   "cell_type": "code",
   "execution_count": null,
   "metadata": {},
   "outputs": [],
   "source": [
    "# Check job input\n",
    "\n",
    "import requests\n",
    "\n",
    "url = f\"{BASE_URL}/jobs/job/{job_id}?status_only=false\"\n",
    "headers = {\n",
    "    \"Content-Type\": \"application/json\",\n",
    "    \"Authorization\": f\"Bearer {API_KEY}\"\n",
    "}\n",
    "\n",
    "response = requests.get(url, headers=headers)\n",
    "response.json()"
   ]
  },
  {
   "cell_type": "code",
   "execution_count": null,
   "metadata": {},
   "outputs": [],
   "source": [
    "# Check job output\n",
    "\n",
    "import requests\n",
    "\n",
    "url = f\"{BASE_URL}/jobs/out/{job_id}?status_only=false\"\n",
    "headers = {\n",
    "    \"Content-Type\": \"application/json\",\n",
    "    \"Authorization\": f\"Bearer {API_KEY}\"\n",
    "}\n",
    "\n",
    "response = requests.get(url, headers=headers)\n",
    "response.json()"
   ]
  },
  {
   "cell_type": "markdown",
   "metadata": {},
   "source": [
    "#### Chat endpoint"
   ]
  },
  {
   "cell_type": "code",
   "execution_count": 28,
   "metadata": {},
   "outputs": [
    {
     "data": {
      "text/plain": [
       "'{\"id\":\"b0a694b1-0f4d-4b71-bbd6-442884e1c7e1\",\"choices\":[{\"finish_reason\":\"stop\",\"index\":0,\"logprobs\":null,\"message\":{\"content\":\"What a delicious topic! While opinions about the best food can vary greatly, I can provide some insights on why French cuisine is often considered one of the greatest in the world.\\\\n\\\\nFrance is renowned for its rich culinary history, which dates back to the Middle Ages. The country\\'s geography, climate, and cultural heritage have all contributed to its exceptional food scene. Here are a few reasons why French cuisine is often considered among the best:\\\\n\\\\n1. **Influence of historical periods**: French cuisine has been shaped by various historical periods, including the Middle Ages, the Renaissance, and the Enlightenment. Each era brought new ingredients, cooking techniques, and cultural influences that contributed to the development of French cuisine.\\\\n2. **Regional diversity**: France has a diverse range of regions, each with its own unique culinary traditions. From the rich, creamy sauces of Normandy to the flavorful wines and cheeses of Bordeaux, the culinary experiences in different regions are incredibly varied.\\\\n3. **Emphasis on fresh, local ingredients**: French cuisine emphasizes the use of fresh, seasonal ingredients, which are often sourced from local farms and markets. This approach to food emphasizes flavor, texture, and presentation, making each dish a delight to the senses.\\\\n4. **Skilled chefs and cooking techniques**: France has a long tradition of producing skilled chefs who have perfected various cooking techniques, such as sauce-making, pastry-making, and roasting. The country is also home to many renowned culinary schools and institutes that have contributed to its culinary expertise.\\\\n5. **Love of fine dining**: The French are known for their passion for fine dining, which extends beyond the preparation and presentation of food to the overall experience of enjoying a meal. This includes a focus on table settings, service, and the art of conversation.\\\\n\\\\nWhile opinions about the \\\\\"best\\\\\" food are subjective, France\\'s culinary heritage, emphasis on fresh ingredients, and rich culinary traditions make a strong case for its exceptional cuisine.\\\\n\\\\nWould you like to know more about a specific aspect of French cuisine or perhaps learn about other notable food cultures around the world?\",\"refusal\":null,\"role\":\"assistant\",\"audio\":null,\"function_call\":null,\"tool_calls\":null}}],\"created\":1734373494,\"model\":\"chat-v1\",\"object\":\"chat.completion\",\"service_tier\":null,\"system_fingerprint\":null,\"usage\":{\"completion_tokens\":411,\"prompt_tokens\":10,\"total_tokens\":421,\"completion_tokens_details\":null,\"prompt_tokens_details\":null},\"sources\":[]}'"
      ]
     },
     "execution_count": 28,
     "metadata": {},
     "output_type": "execute_result"
    }
   ],
   "source": [
    "# With OpenAI\n",
    "\n",
    "from openai import OpenAI\n",
    "\n",
    "client = OpenAI(\n",
    "    api_key=API_KEY,\n",
    "    base_url=BASE_URL\n",
    ")\n",
    "\n",
    "prompt = \"\"\"\n",
    "Tell me why France has the best food\n",
    "\"\"\"\n",
    "\n",
    "response = client.chat.completions.create(\n",
    "    model=\"chat-v1\",\n",
    "    max_tokens=800,\n",
    "    messages=[\n",
    "        {\n",
    "            \"role\": \"user\",\n",
    "            \"content\": prompt\n",
    "        }\n",
    "    ],\n",
    ")\n",
    "\n",
    "response.json()"
   ]
  },
  {
   "cell_type": "code",
   "execution_count": 34,
   "metadata": {},
   "outputs": [
    {
     "name": "stdout",
     "output_type": "stream",
     "text": [
      "What a delicious topic! While opinions about the best food can vary greatly, I can provide some insights on why French cuisine is often considered one of the greatest in the world.\n",
      "\n",
      "France is renowned for its rich culinary history, which dates back to the Middle Ages. The country's geography, climate, and cultural heritage have all contributed to its exceptional food scene. Here are a few reasons why French cuisine is often considered among the best:\n",
      "\n",
      "1. **Influence of historical periods**: French cuisine has been shaped by various historical periods, including the Middle Ages, the Renaissance, and the Enlightenment. Each era brought new ingredients, cooking techniques, and cultural influences that contributed to the development of French cuisine.\n",
      "2. **Regional diversity**: France has a diverse range of regions, each with its own unique culinary traditions. From the rich, creamy sauces of Normandy to the flavorful wines and cheeses of Bordeaux, the culinary experiences in different regions are incredibly varied.\n",
      "3. **Emphasis on fresh, local ingredients**: French cuisine emphasizes the use of fresh, seasonal ingredients, which are often sourced from local farms and markets. This approach to food emphasizes flavor, texture, and presentation, making each dish a delight to the senses.\n",
      "4. **Skilled chefs and cooking techniques**: France has a long tradition of producing skilled chefs who have perfected various cooking techniques, such as sauce-making, pastry-making, and roasting. The country is also home to many renowned culinary schools and institutes that have contributed to its culinary expertise.\n",
      "5. **Love of fine dining**: The French are known for their passion for fine dining, which extends beyond the preparation and presentation of food to the overall experience of enjoying a meal. This includes a focus on table settings, service, and the art of conversation.\n",
      "\n",
      "While opinions about the \"best\" food are subjective, France's culinary heritage, emphasis on fresh ingredients, and rich culinary traditions make a strong case for its exceptional cuisine.\n",
      "\n",
      "Would you like to know more about a specific aspect of French cuisine or perhaps learn about other notable food cultures around the world?\n"
     ]
    }
   ],
   "source": [
    "print(response.choices[0].message.content)"
   ]
  },
  {
   "cell_type": "code",
   "execution_count": 7,
   "metadata": {},
   "outputs": [
    {
     "name": "stdout",
     "output_type": "stream",
     "text": [
      "It is not possible for any spacecraft to land on the sun due to its incredibly high surface temperature of about 5500°C (10,000°F), which would vaporize any material that came into contact with it. Additionally, the sun's intense gravity would crush any spacecraft that got too close, making it impossible for it to survive the journey.\n"
     ]
    }
   ],
   "source": [
    "# With requests\n",
    "\n",
    "import requests\n",
    "\n",
    "url = f\"{BASE_URL}/chat/completions\"\n",
    "headers = {\n",
    "    \"Content-Type\": \"application/json\",\n",
    "    \"Authorization\": f\"Bearer {API_KEY}\"\n",
    "}\n",
    "data = {\n",
    "    \"model\": \"chat-v1\",\n",
    "    \"max_tokens\": 2000,\n",
    "    \"messages\": [\n",
    "        {\n",
    "            \"role\": \"system\",\n",
    "            \"content\": \"You have to answer user requests and follow carefully prompt requirements.\"\n",
    "        },\n",
    "        {\n",
    "            \"role\": \"user\",\n",
    "            \"content\": \"Is it possible to land on the sun? (answer in 2 sentences with a short explanation)\"\n",
    "        }\n",
    "    ]\n",
    "}\n",
    "\n",
    "response = requests.post(url, headers=headers, json=data)\n",
    "print(response.json()['choices'][0]['message']['content'])"
   ]
  },
  {
   "cell_type": "code",
   "execution_count": 3,
   "metadata": {},
   "outputs": [
    {
     "data": {
      "text/plain": [
       "{'id': '081004ec-48a6-4296-a5ab-c211bce7ef65',\n",
       " 'object': 'chat.completion',\n",
       " 'created': 1734425016,\n",
       " 'model': 'chat-v1',\n",
       " 'choices': [{'index': 0,\n",
       "   'message': {'role': 'assistant', 'content': ''},\n",
       "   'finish_reason': 'stop'}],\n",
       " 'usage': {'prompt_tokens': 0, 'completion_tokens': 0, 'total_tokens': 0},\n",
       " 'sources': []}"
      ]
     },
     "execution_count": 3,
     "metadata": {},
     "output_type": "execute_result"
    }
   ],
   "source": [
    "import requests\n",
    "\n",
    "url = f\"{BASE_URL}/chat/completions\"\n",
    "headers = {\n",
    "    \"Content-Type\": \"application/json\",\n",
    "    \"Authorization\": f\"Bearer {API_KEY}\"\n",
    "}\n",
    "data = {\n",
    "    \"model\": \"chat-v1\",\n",
    "    \"max_tokens\": 2000,\n",
    "    \"messages\": [\n",
    "        {\n",
    "            \"role\": \"system\",\n",
    "            \"content\": \"You have to answer user requests and follow carefully prompt requirements.\"\n",
    "        },\n",
    "        {\n",
    "            \"role\": \"user\",\n",
    "            \"content\": \"Is it possible to land on the sun? (answer in 2 sentences with a short explanation)\"\n",
    "        }\n",
    "    ],\n",
    "    \"deferred\": True\n",
    "}\n",
    "\n",
    "response = requests.post(url, headers=headers, json=data)\n",
    "response_dict = response.json()\n",
    "\n",
    "job_id = response_dict['id']\n",
    "response_dict"
   ]
  },
  {
   "cell_type": "code",
   "execution_count": null,
   "metadata": {},
   "outputs": [
    {
     "data": {
      "text/plain": [
       "{'messages': ['Is it possible to land on the sun? (answer in 2 sentences with a short explanation)'],\n",
       " 'max_tokens': 2000,\n",
       " 'stream': False,\n",
       " 'stop': None,\n",
       " 'n': 1,\n",
       " 'temperature': 1.0,\n",
       " 'top_k': 40,\n",
       " 'top_p': 0.9,\n",
       " 'presence_penalty': 0.0,\n",
       " 'frequency_penalty': 0.0,\n",
       " 'repetition_penalty': 1.0,\n",
       " 'seed': 0,\n",
       " 'model': 'chat-v1',\n",
       " 'deferred': True,\n",
       " 'rag': False,\n",
       " 'system': 'You have to answer user requests and follow carefully prompt requirements.',\n",
       " 'job_type': 'chat',\n",
       " 'status': 'Done'}"
      ]
     },
     "execution_count": 5,
     "metadata": {},
     "output_type": "execute_result"
    }
   ],
   "source": [
    "# Check job status\n",
    "\n",
    "import requests\n",
    "\n",
    "url = f\"{BASE_URL}/jobs/job/{job_id}?status_only=false\"\n",
    "headers = {\n",
    "    \"Content-Type\": \"application/json\",\n",
    "    \"Authorization\": f\"Bearer {API_KEY}\"\n",
    "}\n",
    "\n",
    "response = requests.get(url, headers=headers)\n",
    "response.json()"
   ]
  },
  {
   "cell_type": "code",
   "execution_count": 6,
   "metadata": {},
   "outputs": [
    {
     "data": {
      "text/plain": [
       "{'id': '081004ec-48a6-4296-a5ab-c211bce7ef65',\n",
       " 'object': 'chat.completion',\n",
       " 'created': 1734425030,\n",
       " 'model': 'chat-v1',\n",
       " 'choices': [{'index': 0,\n",
       "   'message': {'role': 'assistant',\n",
       "    'content': \"It is not possible for any object, including a spacecraft, to land on the sun because the sun's surface temperature is about 5,500°C (10,000°F), which is far beyond the melting point of any material, and the intense gravitational forces would cause any object to be torn apart. Additionally, the sun's gravity is so strong that even if a spacecraft could somehow withstand the heat, it would be pulled apart by the sun's tidal forces before it could even reach the surface.\"},\n",
       "   'finish_reason': 'stop'}],\n",
       " 'usage': {'prompt_tokens': 20, 'completion_tokens': 100, 'total_tokens': 120},\n",
       " 'sources': [],\n",
       " 'status': 'Done'}"
      ]
     },
     "execution_count": 6,
     "metadata": {},
     "output_type": "execute_result"
    }
   ],
   "source": [
    "# Check job output\n",
    "\n",
    "import requests\n",
    "\n",
    "url = f\"{BASE_URL}/jobs/out/{job_id}?status_only=false\"\n",
    "headers = {\n",
    "    \"Content-Type\": \"application/json\",\n",
    "    \"Authorization\": f\"Bearer {API_KEY}\"\n",
    "}\n",
    "\n",
    "response = requests.get(url, headers=headers)\n",
    "response.json()"
   ]
  },
  {
   "cell_type": "markdown",
   "metadata": {},
   "source": [
    "#### RAG"
   ]
  },
  {
   "cell_type": "markdown",
   "metadata": {},
   "source": [
    "#### Push documents"
   ]
  },
  {
   "cell_type": "markdown",
   "metadata": {},
   "source": [
    "You can directly push your documents (.pdf, .md, .docx)"
   ]
  },
  {
   "cell_type": "code",
   "execution_count": 15,
   "metadata": {},
   "outputs": [
    {
     "name": "stdout",
     "output_type": "stream",
     "text": [
      "Status code: 200\n",
      "Response: {'message': 'Documents pushed'}\n"
     ]
    }
   ],
   "source": [
    "import requests\n",
    "\n",
    "# For multiple files upload\n",
    "folder = \"client1\"\n",
    "url = f\"{BASE_URL}/rag/documents?folder={folder}\"\n",
    "files = [\n",
    "    (\"files\", (\"Diagnosis_and_Management_of_Heart_Failure.pdf\", open(\"../data/Diagnosis_and_Management_of_Heart_Failure.pdf\", \"rb\")))\n",
    "]\n",
    "headers = {\n",
    "    \"Authorization\": f\"Bearer {API_KEY}\"\n",
    "}\n",
    "\n",
    "response = requests.post(url, files=files, headers=headers)\n",
    "print(f\"Status code: {response.status_code}\")\n",
    "print(f\"Response: {response.json()}\")"
   ]
  },
  {
   "cell_type": "markdown",
   "metadata": {},
   "source": [
    "You can also directly push your markdown"
   ]
  },
  {
   "cell_type": "code",
   "execution_count": 17,
   "metadata": {},
   "outputs": [
    {
     "name": "stdout",
     "output_type": "stream",
     "text": [
      "Status code: 200\n",
      "Response: {'message': 'Documents pushed'}\n"
     ]
    }
   ],
   "source": [
    "import requests\n",
    "\n",
    "url = f\"{BASE_URL}/rag/markdown\"\n",
    "headers = {\n",
    "    \"Authorization\": f\"Bearer {API_KEY}\"\n",
    "}\n",
    "body = {\n",
    "    \"folder\": \"client1\",\n",
    "    \"filename\": \"test.md\",\n",
    "    \"filecontent\": \"# Title1\\n## Title2\\nTest document1\\n## Title3\\nTest document2\\n### Title4\\nHello\"\n",
    "}\n",
    "\n",
    "response = requests.post(url, headers=headers, json=body)\n",
    "print(f\"Status code: {response.status_code}\")\n",
    "print(f\"Response: {response.json()}\")"
   ]
  },
  {
   "cell_type": "markdown",
   "metadata": {},
   "source": [
    "#### List documents"
   ]
  },
  {
   "cell_type": "code",
   "execution_count": 18,
   "metadata": {},
   "outputs": [
    {
     "name": "stdout",
     "output_type": "stream",
     "text": [
      "{'env_type': 'DEV', 'files': [{'name': 'nuclear-astrophysics.pdf', 'file_type': 'pdf'}, {'name': 'test.md', 'file_type': 'md'}, {'name': 'Diagnosis_and_Management_of_Heart_Failure.pdf', 'file_type': 'pdf'}]}\n"
     ]
    }
   ],
   "source": [
    "import requests\n",
    "\n",
    "url = f\"https://api.vauban.cloud/v1/rag/documents\"\n",
    "headers = {\n",
    "    \"Authorization\": f\"Bearer {API_KEY}\"\n",
    "}\n",
    "\n",
    "response = requests.get(url, headers=headers)\n",
    "print(response.json())"
   ]
  },
  {
   "cell_type": "markdown",
   "metadata": {},
   "source": [
    "#### Delete documents"
   ]
  },
  {
   "cell_type": "code",
   "execution_count": 19,
   "metadata": {},
   "outputs": [
    {
     "name": "stdout",
     "output_type": "stream",
     "text": [
      "{'message': 'Documents deleted successfully'}\n"
     ]
    }
   ],
   "source": [
    "import requests\n",
    "\n",
    "url = f\"{BASE_URL}/rag/documents\"\n",
    "headers = {\n",
    "    \"Authorization\": f\"Bearer {API_KEY}\"\n",
    "}\n",
    "body = {\n",
    "    # Filenames you can get in the list documents endpoint\n",
    "    'filenames': ['test.md']\n",
    "}\n",
    "\n",
    "response = requests.delete(url, headers=headers, json=body)\n",
    "print(response.json())"
   ]
  },
  {
   "cell_type": "markdown",
   "metadata": {},
   "source": [
    "##### Query"
   ]
  },
  {
   "cell_type": "markdown",
   "metadata": {},
   "source": [
    "Sync version"
   ]
  },
  {
   "cell_type": "code",
   "execution_count": 21,
   "metadata": {},
   "outputs": [
    {
     "name": "stdout",
     "output_type": "stream",
     "text": [
      "Based on the provided document, here are the key associations and findings identified in the study:\n",
      "\n",
      "**Associations:**\n",
      "\n",
      "* The study found associations between non-alcoholic fatty liver disease (NAFLD) and liver fibrosis with:\n",
      "\t+ Epicardial Adipose Tissue Volume (EATV)\n",
      "\t+ Atrial Deformation Mechanics (i.e., diastolic function and left atrial mechanics)\n",
      "* These associations were observed in a large Asian population free from clinical heart failure.\n",
      "\n",
      "**Key Findings:**\n",
      "\n",
      "* **Epicardial Fat Volume (EFV):** The study found that:\n",
      "\t+ EFV was significantly higher in participants with NAFLD and liver fibrosis compared to those without NAFLD and liver fibrosis.\n",
      "\t+ The association between EFV and NAFLD and liver fibrosis was stronger in participants with higher fibrosis scores.\n",
      "* **Diastolic Function:** The study found that:\n",
      "\t+ Participants with NAFLD and liver fibrosis had lower diastolic function (atrial deformation mechanics) compared to those without NAFLD and liver fibrosis.\n",
      "* **Left Atrial Mechanics:** The study found that:\n",
      "\t+ Participants with NAFLD and liver fibrosis had altered left atrial mechanics, which were associated with increased EFV.\n",
      "\n",
      "These findings suggest that NAFLD and liver fibrosis may be linked to cardiac structural and functional disturbances, particularly in terms of epicardial fat volume, diastolic function, and left atrial mechanics.\n"
     ]
    }
   ],
   "source": [
    "query = \"\"\"\n",
    "What associations did the study identify between non-alcoholic fatty liver disease (NAFLD),\n",
    "liver fibrosis, and cardiac structural or functional disturbances in an Asian population?\n",
    "Highlight the key findings regarding epicardial fat volume (EFV), diastolic function, and left atrial mechanics.\n",
    "\"\"\"\n",
    "\n",
    "url = f\"{BASE_URL}/chat/completions\"\n",
    "headers = {\n",
    "    \"Content-Type\": \"application/json\",\n",
    "    \"Authorization\": f\"Bearer {API_KEY}\"\n",
    "}\n",
    "body = {\n",
    "    \"model\": \"chat-v1\",\n",
    "    \"max_tokens\": 1000,\n",
    "    \"messages\": [\n",
    "        {\n",
    "            \"role\": \"user\",\n",
    "            \"content\": query\n",
    "        }\n",
    "    ],\n",
    "    \"rag\": True\n",
    "}\n",
    "response = requests.post(url, json=body, headers=headers)\n",
    "print(response.json()['choices'][0]['message']['content'])"
   ]
  },
  {
   "cell_type": "markdown",
   "metadata": {},
   "source": [
    "Async version"
   ]
  },
  {
   "cell_type": "code",
   "execution_count": null,
   "metadata": {},
   "outputs": [],
   "source": [
    "query = \"\"\"\n",
    "What associations did the study identify between non-alcoholic fatty liver disease (NAFLD),\n",
    "liver fibrosis, and cardiac structural or functional disturbances in an Asian population?\n",
    "Highlight the key findings regarding epicardial fat volume (EFV), diastolic function, and left atrial mechanics.\n",
    "\"\"\"\n",
    "\n",
    "url = f\"{BASE_URL}/chat/completions\"\n",
    "headers = {\n",
    "    \"Content-Type\": \"application/json\",\n",
    "    \"Authorization\": f\"Bearer {API_KEY}\"\n",
    "}\n",
    "body = {\n",
    "    \"model\": \"chat-v1\",\n",
    "    \"max_tokens\": 1000,\n",
    "    \"messages\": [\n",
    "        {\n",
    "            \"role\": \"user\",\n",
    "            \"content\": query\n",
    "        }\n",
    "    ],\n",
    "    \"rag\": True,\n",
    "    \"deferred\": True # For async mode\n",
    "}\n",
    "response = requests.post(url, json=body, headers=headers)\n",
    "job_id = response.json()['id']\n",
    "response.json()"
   ]
  },
  {
   "cell_type": "code",
   "execution_count": null,
   "metadata": {},
   "outputs": [],
   "source": [
    "# Check job status\n",
    "\n",
    "import requests\n",
    "\n",
    "url = f\"{BASE_URL}/jobs/job/{job_id}?status_only=false\"\n",
    "headers = {\n",
    "    \"Content-Type\": \"application/json\",\n",
    "    \"Authorization\": f\"Bearer {API_KEY}\"\n",
    "}\n",
    "\n",
    "response = requests.get(url, headers=headers)\n",
    "response.json()"
   ]
  },
  {
   "cell_type": "code",
   "execution_count": null,
   "metadata": {},
   "outputs": [],
   "source": [
    "# Check job output\n",
    "\n",
    "import requests\n",
    "\n",
    "url = f\"{BASE_URL}/jobs/out/{job_id}?status_only=false\"\n",
    "headers = {\n",
    "    \"Content-Type\": \"application/json\",\n",
    "    \"Authorization\": f\"Bearer {API_KEY}\"\n",
    "}\n",
    "\n",
    "response = requests.get(url, headers=headers)\n",
    "response.json()"
   ]
  },
  {
   "cell_type": "code",
   "execution_count": null,
   "metadata": {},
   "outputs": [],
   "source": []
  }
 ],
 "metadata": {
  "kernelspec": {
   "display_name": ".env",
   "language": "python",
   "name": "python3"
  },
  "language_info": {
   "codemirror_mode": {
    "name": "ipython",
    "version": 3
   },
   "file_extension": ".py",
   "mimetype": "text/x-python",
   "name": "python",
   "nbconvert_exporter": "python",
   "pygments_lexer": "ipython3",
   "version": "3.12.6"
  }
 },
 "nbformat": 4,
 "nbformat_minor": 2
}
