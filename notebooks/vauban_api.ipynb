{
 "cells": [
  {
   "cell_type": "markdown",
   "metadata": {},
   "source": [
    "## Test prod API notebook"
   ]
  },
  {
   "cell_type": "markdown",
   "metadata": {},
   "source": [
    "This notebook can be used to test Vauban API. You can find a set of examples using OpenAI client or directly requests."
   ]
  },
  {
   "cell_type": "markdown",
   "metadata": {},
   "source": [
    "Available models:\n",
    "\n",
    "- `fast-v1`: meta-llama/Llama-3.1-8B\n",
    "- `chat-v1`: nvidia/Llama-3.1-Nemotron-70B-Instruct\n",
    "- `embeddings-v1`: Alibaba-NLP/gte-Qwen2-7B-instruct\n",
    "\n",
    "`chat-v1` is only available in TEST and PROD api keys. If you use `chat-v1` for DEV API key it will automatically use `fast-v1` model."
   ]
  },
  {
   "cell_type": "markdown",
   "metadata": {},
   "source": [
    "Currently, for chat models with TEST and PROD api keys you can only use async mode."
   ]
  },
  {
   "cell_type": "code",
   "execution_count": null,
   "metadata": {},
   "outputs": [],
   "source": [
    "# Put your API key here\n",
    "\n",
    "# DEV\n",
    "API_KEY = \"\"\n",
    "\n",
    "# TEST\n",
    "# API_KEY = \"\"\n",
    "\n",
    "# PROD\n",
    "# API_KEY = \"\""
   ]
  },
  {
   "cell_type": "code",
   "execution_count": 4,
   "metadata": {},
   "outputs": [],
   "source": [
    "# Put the base URL (prod / dev or local)\n",
    "\n",
    "BASE_URL = \"https://api.vauban.cloud/v1\""
   ]
  },
  {
   "cell_type": "markdown",
   "metadata": {},
   "source": [
    "#### Embedding endpoint"
   ]
  },
  {
   "cell_type": "markdown",
   "metadata": {},
   "source": [
    "With OpenAI client"
   ]
  },
  {
   "cell_type": "code",
   "execution_count": null,
   "metadata": {},
   "outputs": [],
   "source": [
    "# With OpenAI\n",
    "\n",
    "from openai import OpenAI\n",
    "\n",
    "client = OpenAI(\n",
    "    api_key=API_KEY,\n",
    "    base_url=BASE_URL\n",
    ")\n",
    "\n",
    "response = client.embeddings.create(\n",
    "    input=\"This is an amazing input\",\n",
    "    model=\"embeddings-v1\"\n",
    ")\n",
    "\n",
    "print(response)"
   ]
  },
  {
   "cell_type": "markdown",
   "metadata": {},
   "source": [
    "With OpenAI client async mode"
   ]
  },
  {
   "cell_type": "code",
   "execution_count": 7,
   "metadata": {},
   "outputs": [
    {
     "name": "stdout",
     "output_type": "stream",
     "text": [
      "CreateEmbeddingResponse(data=[Embedding(embedding=[], index=0, object='embedding')], model='embeddings-v1', object='list', usage=Usage(prompt_tokens=0, total_tokens=0, completion_tokens=0), id='13815214-3341-4fe3-8e8c-09f2c2c809bc')\n"
     ]
    }
   ],
   "source": [
    "# With OpenAI\n",
    "\n",
    "from openai import OpenAI\n",
    "\n",
    "client = OpenAI(\n",
    "    api_key=API_KEY,\n",
    "    base_url=BASE_URL\n",
    ")\n",
    "\n",
    "response = client.embeddings.create(\n",
    "    input=\"This is an amazing input\",\n",
    "    model=\"embeddings-v1\",\n",
    "    extra_body={\"deferred\": True}\n",
    ")\n",
    "\n",
    "print(response)\n",
    "job_id = response.id"
   ]
  },
  {
   "cell_type": "code",
   "execution_count": null,
   "metadata": {},
   "outputs": [],
   "source": [
    "# Check job status\n",
    "\n",
    "import requests\n",
    "\n",
    "url = f\"{BASE_URL}/jobs/out/{job_id}\"\n",
    "headers = {\n",
    "    \"Content-Type\": \"application/json\",\n",
    "    \"Authorization\": f\"Bearer {API_KEY}\"\n",
    "}\n",
    "\n",
    "response = requests.get(url, headers=headers)\n",
    "response.json()"
   ]
  },
  {
   "cell_type": "code",
   "execution_count": null,
   "metadata": {},
   "outputs": [],
   "source": [
    "# Check job output\n",
    "\n",
    "import requests\n",
    "\n",
    "url = f\"{BASE_URL}/jobs/out/{job_id}?status_only=false\"\n",
    "headers = {\n",
    "    \"Content-Type\": \"application/json\",\n",
    "    \"Authorization\": f\"Bearer {API_KEY}\"\n",
    "}\n",
    "\n",
    "response = requests.get(url, headers=headers)\n",
    "response.json()"
   ]
  },
  {
   "cell_type": "markdown",
   "metadata": {},
   "source": [
    "With requests"
   ]
  },
  {
   "cell_type": "code",
   "execution_count": null,
   "metadata": {},
   "outputs": [],
   "source": [
    "# With requests\n",
    "import requests\n",
    "\n",
    "url = f\"{BASE_URL}/embeddings\"\n",
    "headers = {\n",
    "    \"Content-Type\": \"application/json\",\n",
    "    \"Authorization\": f\"Bearer {API_KEY}\"\n",
    "}\n",
    "data = {\n",
    "    \"input\": \"Hello how are you ?\",\n",
    "}\n",
    "\n",
    "response = requests.post(url, headers=headers, json=data)\n",
    "\n",
    "print(response.json())"
   ]
  },
  {
   "cell_type": "markdown",
   "metadata": {},
   "source": [
    "With requests async mode"
   ]
  },
  {
   "cell_type": "code",
   "execution_count": 11,
   "metadata": {},
   "outputs": [
    {
     "data": {
      "text/plain": [
       "{'id': '9c73a8e6-2d3d-47bf-ba6f-e22e5e42cbca',\n",
       " 'object': 'list',\n",
       " 'data': [{'object': 'embedding', 'embedding': [], 'index': 0}],\n",
       " 'model': 'embeddings-v1',\n",
       " 'usage': {'prompt_tokens': 0, 'completion_tokens': 0, 'total_tokens': 0}}"
      ]
     },
     "execution_count": 11,
     "metadata": {},
     "output_type": "execute_result"
    }
   ],
   "source": [
    "# With requests\n",
    "import requests\n",
    "\n",
    "url = f\"{BASE_URL}/embeddings\"\n",
    "headers = {\n",
    "    \"Content-Type\": \"application/json\",\n",
    "    \"Authorization\": f\"Bearer {API_KEY}\"\n",
    "}\n",
    "data = {\n",
    "    \"input\": \"Hello how are you ?\",\n",
    "    \"deferred\": True\n",
    "}\n",
    "\n",
    "response = requests.post(url, headers=headers, json=data)\n",
    "resp_dict = response.json()\n",
    "\n",
    "job_id = resp_dict.get('id')\n",
    "resp_dict"
   ]
  },
  {
   "cell_type": "code",
   "execution_count": 12,
   "metadata": {},
   "outputs": [
    {
     "data": {
      "text/plain": [
       "{'status': 'Queued'}"
      ]
     },
     "execution_count": 12,
     "metadata": {},
     "output_type": "execute_result"
    }
   ],
   "source": [
    "# Check job status\n",
    "\n",
    "import requests\n",
    "\n",
    "url = f\"{BASE_URL}/jobs/job/{job_id}\"\n",
    "headers = {\n",
    "    \"Content-Type\": \"application/json\",\n",
    "    \"Authorization\": f\"Bearer {API_KEY}\"\n",
    "}\n",
    "\n",
    "response = requests.get(url, headers=headers)\n",
    "response.json()"
   ]
  },
  {
   "cell_type": "code",
   "execution_count": 13,
   "metadata": {},
   "outputs": [
    {
     "data": {
      "text/plain": [
       "{'model': 'embeddings-v1',\n",
       " 'input': ['Hello how are you ?'],\n",
       " 'user': None,\n",
       " 'deferred': True,\n",
       " 'job_name': None,\n",
       " 'id': '9c73a8e6-2d3d-47bf-ba6f-e22e5e42cbca',\n",
       " 'job_type': 'embeddings',\n",
       " 'status': 'Queued'}"
      ]
     },
     "execution_count": 13,
     "metadata": {},
     "output_type": "execute_result"
    }
   ],
   "source": [
    "# Check job input\n",
    "\n",
    "import requests\n",
    "\n",
    "url = f\"{BASE_URL}/jobs/job/{job_id}?status_only=false\"\n",
    "headers = {\n",
    "    \"Content-Type\": \"application/json\",\n",
    "    \"Authorization\": f\"Bearer {API_KEY}\"\n",
    "}\n",
    "\n",
    "response = requests.get(url, headers=headers)\n",
    "response.json()"
   ]
  },
  {
   "cell_type": "code",
   "execution_count": null,
   "metadata": {},
   "outputs": [],
   "source": [
    "# Check job output\n",
    "\n",
    "import requests\n",
    "\n",
    "url = f\"{BASE_URL}/jobs/out/{job_id}?status_only=false\"\n",
    "headers = {\n",
    "    \"Content-Type\": \"application/json\",\n",
    "    \"Authorization\": f\"Bearer {API_KEY}\"\n",
    "}\n",
    "\n",
    "response = requests.get(url, headers=headers)\n",
    "response.json()"
   ]
  },
  {
   "cell_type": "markdown",
   "metadata": {},
   "source": [
    "#### Rerank endpoint"
   ]
  },
  {
   "cell_type": "markdown",
   "metadata": {},
   "source": [
    "Sync"
   ]
  },
  {
   "cell_type": "code",
   "execution_count": 24,
   "metadata": {},
   "outputs": [
    {
     "name": "stdout",
     "output_type": "stream",
     "text": [
      "{'id': '977b5925-b70e-43a1-b674-7aeda9c0d529', 'results': [{'index': 2, 'relevance_score': 0.590172147354083}, {'index': 0, 'relevance_score': 0.4787417495551361}, {'index': 4, 'relevance_score': 0.3494323799858749}, {'index': 1, 'relevance_score': 0.2909402671344156}], 'meta': {'api_version': {'version': '1', 'is_experimental': False}, 'billed_units': {'search_units': 1}}, 'usage': {'prompt_tokens': 0, 'completion_tokens': 0, 'total_tokens': 0}}\n"
     ]
    }
   ],
   "source": [
    "import requests\n",
    "\n",
    "url = f\"{BASE_URL}/rerank\"\n",
    "\n",
    "headers = {\n",
    "    \"Content-Type\": \"application/json\",\n",
    "    \"Authorization\": f\"Bearer {API_KEY}\"\n",
    "}\n",
    "\n",
    "data = {\n",
    "    \"query\": \"What is the capital of the United States?\",\n",
    "    \"model\": \"embeddings-v1\",\n",
    "    \"top_n\": 4,\n",
    "    \"documents\": [\n",
    "        \"Carson City is the capital city of the American state of Nevada.\",\n",
    "        \"The Commonwealth of the Northern Mariana Islands is a group of islands in the Pacific Ocean. Its capital is Saipan.\",\n",
    "        \"Washington, D.C. (also known as simply Washington or D.C., and officially as the District of Columbia) is the capital of the United States. It is a federal district.\",\n",
    "        \"Capitalization or capitalisation in English grammar is the use of a capital letter at the start of a word. English usage varies from capitalization in other languages.\",\n",
    "        \"Capital punishment has existed in the United States since beforethe United States was a country. As of 2017, capital punishment is legal in 30 of the 50 states.\"\n",
    "    ]\n",
    "}\n",
    "\n",
    "response = requests.post(url, headers=headers, json=data)\n",
    "print(response.json())"
   ]
  },
  {
   "cell_type": "markdown",
   "metadata": {},
   "source": [
    "Async mode"
   ]
  },
  {
   "cell_type": "code",
   "execution_count": null,
   "metadata": {},
   "outputs": [],
   "source": [
    "import requests\n",
    "\n",
    "url = f\"{BASE_URL}/rerank\"\n",
    "\n",
    "headers = {\n",
    "    \"Content-Type\": \"application/json\",\n",
    "    \"Authorization\": f\"Bearer {API_KEY}\"\n",
    "}\n",
    "\n",
    "data = {\n",
    "    \"query\": \"I want details about a French dessert\",\n",
    "    \"model\": \"embeddings-v1\",\n",
    "    \"top_n\": 4,\n",
    "    \"documents\": [\n",
    "        \"How to make a Panna Cotta\",\n",
    "        \"Home made Bubble tea\",\n",
    "        \"Let's make together some Crêpes\",\n",
    "        \"Home made peanut butter\"\n",
    "    ],\n",
    "    # Just add this line for the async mode\n",
    "    \"deferred\": True\n",
    "}\n",
    "\n",
    "response = requests.post(url, headers=headers, json=data)\n",
    "print(response)\n",
    "resp_dict = response.json()\n",
    "\n",
    "job_id = resp_dict.get('id')\n",
    "resp_dict"
   ]
  },
  {
   "cell_type": "code",
   "execution_count": null,
   "metadata": {},
   "outputs": [],
   "source": [
    "# Check job input\n",
    "\n",
    "import requests\n",
    "\n",
    "url = f\"{BASE_URL}/jobs/job/{job_id}?status_only=false\"\n",
    "headers = {\n",
    "    \"Content-Type\": \"application/json\",\n",
    "    \"Authorization\": f\"Bearer {API_KEY}\"\n",
    "}\n",
    "\n",
    "response = requests.get(url, headers=headers)\n",
    "response.json()"
   ]
  },
  {
   "cell_type": "code",
   "execution_count": null,
   "metadata": {},
   "outputs": [],
   "source": [
    "# Check job output\n",
    "\n",
    "import requests\n",
    "\n",
    "url = f\"{BASE_URL}/jobs/out/{job_id}?status_only=false\"\n",
    "headers = {\n",
    "    \"Content-Type\": \"application/json\",\n",
    "    \"Authorization\": f\"Bearer {API_KEY}\"\n",
    "}\n",
    "\n",
    "response = requests.get(url, headers=headers)\n",
    "response.json()"
   ]
  },
  {
   "cell_type": "markdown",
   "metadata": {},
   "source": [
    "#### Chat endpoint"
   ]
  },
  {
   "cell_type": "markdown",
   "metadata": {},
   "source": [
    "With OpenAI client"
   ]
  },
  {
   "cell_type": "code",
   "execution_count": null,
   "metadata": {},
   "outputs": [],
   "source": [
    "# With OpenAI\n",
    "\n",
    "from openai import OpenAI\n",
    "\n",
    "client = OpenAI(\n",
    "    api_key=API_KEY,\n",
    "    base_url=BASE_URL\n",
    ")\n",
    "\n",
    "prompt = \"\"\"\n",
    "Tell me why France has the best food\n",
    "\"\"\"\n",
    "\n",
    "response = client.chat.completions.create(\n",
    "    model=\"chat-v1\",\n",
    "    max_tokens=800,\n",
    "    messages=[\n",
    "        {\n",
    "            \"role\": \"user\",\n",
    "            \"content\": prompt\n",
    "        }\n",
    "    ]\n",
    ")\n",
    "\n",
    "print(response)"
   ]
  },
  {
   "cell_type": "code",
   "execution_count": 17,
   "metadata": {},
   "outputs": [
    {
     "name": "stdout",
     "output_type": "stream",
     "text": [
      "France is indeed renowned for its exquisite cuisine, but whether it has the \"best\" food is subjective and open to personal opinion. However, there are many reasons why French cuisine is so highly regarded:\n",
      "\n",
      "1. **Rich culinary history**: French cuisine has a long and storied history, with roots dating back to the Middle Ages. It has been influenced by various cultures, including the Romans, the Normans, and the Renaissance-era aristocrats.\n",
      "2. **Emphasis on technique**: French cuisine places a strong emphasis on proper technique, using high-quality ingredients, and attention to presentation. This focus on craftsmanship has earned French chefs a reputation for excellence.\n",
      "3. **Regional diversity**: France is home to numerous distinct culinary regions, each with its unique flavors, ingredients, and specialties. From the buttery pastries of Brittany to the spicy cuisine of the southwest, there's a wealth of flavors to explore.\n",
      "4. **Love for local ingredients**: French cuisine celebrates the use of local, seasonal ingredients, often showcased in traditional dishes like ratatouille (a vegetable stew from Provence) or bouillabaisse (a fish stew from Marseille).\n",
      "5. **Innovative spirit**: French chefs have a long tradition of innovation, pushing the boundaries of culinary art and experimenting with new flavors and techniques.\n",
      "\n",
      "While it's difficult to pinpoint a single reason why France has the \"best\" food, these factors combined have undoubtedly contributed to its global reputation for culinary excellence.\n"
     ]
    }
   ],
   "source": [
    "print(response.choices[0].message.content)"
   ]
  },
  {
   "cell_type": "markdown",
   "metadata": {},
   "source": [
    "With OpenAI client async mode"
   ]
  },
  {
   "cell_type": "code",
   "execution_count": null,
   "metadata": {},
   "outputs": [
    {
     "name": "stdout",
     "output_type": "stream",
     "text": [
      "ChatCompletion(id='bb1b9b01-a0a4-4cc3-a750-694cf0648793', choices=[Choice(finish_reason='stop', index=0, logprobs=None, message=ChatCompletionMessage(content='', refusal=None, role='assistant', audio=None, function_call=None, tool_calls=None))], created=1735207811, model='chat-v1', object='chat.completion', service_tier=None, system_fingerprint=None, usage=CompletionUsage(completion_tokens=0, prompt_tokens=0, total_tokens=0, completion_tokens_details=None, prompt_tokens_details=None), sources=[])\n"
     ]
    }
   ],
   "source": [
    "# With OpenAI\n",
    "\n",
    "from openai import OpenAI\n",
    "\n",
    "client = OpenAI(\n",
    "    api_key=API_KEY,\n",
    "    base_url=BASE_URL\n",
    ")\n",
    "\n",
    "prompt = \"\"\"\n",
    "Tell me why France has the best food\n",
    "\"\"\"\n",
    "\n",
    "response = client.chat.completions.create(\n",
    "    model=\"fast-v1\",\n",
    "    max_tokens=800,\n",
    "    messages=[\n",
    "        {\n",
    "            \"role\": \"user\",\n",
    "            \"content\": prompt\n",
    "        }\n",
    "    ],\n",
    "    extra_body={\"deferred\": True}\n",
    ")\n",
    "\n",
    "print(response)\n",
    "job_id = response.id"
   ]
  },
  {
   "cell_type": "code",
   "execution_count": null,
   "metadata": {},
   "outputs": [
    {
     "data": {
      "text/plain": [
       "{'status': 'Done'}"
      ]
     },
     "execution_count": 20,
     "metadata": {},
     "output_type": "execute_result"
    }
   ],
   "source": [
    "# Check job status\n",
    "\n",
    "import requests\n",
    "\n",
    "url = f\"{BASE_URL}/jobs/out/{job_id}\"\n",
    "headers = {\n",
    "    \"Content-Type\": \"application/json\",\n",
    "    \"Authorization\": f\"Bearer {API_KEY}\"\n",
    "}\n",
    "\n",
    "response = requests.get(url, headers=headers)\n",
    "response.json()"
   ]
  },
  {
   "cell_type": "code",
   "execution_count": 21,
   "metadata": {},
   "outputs": [
    {
     "data": {
      "text/plain": [
       "{'id': 'bb1b9b01-a0a4-4cc3-a750-694cf0648793',\n",
       " 'object': 'chat.completion',\n",
       " 'created': 1735207819,\n",
       " 'model': 'chat-v1',\n",
       " 'choices': [{'index': 0,\n",
       "   'message': {'role': 'assistant',\n",
       "    'content': 'France is indeed renowned for its rich culinary culture and the quality of its cuisine. There are several reasons why French food is so highly regarded:\\n\\n1. **History and Tradition**: French cuisine has a long and storied history, dating back to the Middle Ages. The country\\'s cooking techniques and recipes have evolved over time, influenced by various cultures and culinary traditions.\\n2. **High-Quality Ingredients**: France is famous for its fresh produce, dairy products, meats, and seafood. The country\\'s emphasis on using high-quality, seasonal ingredients helps to create dishes that are both flavorful and visually appealing.\\n3. **Culinary Expertise**: French chefs are known for their technical skill and attention to detail, which allows them to prepare dishes that are both visually stunning and delicious.\\n4. **Rich Biodiversity**: France is home to a diverse range of culinary regions, each with its unique flavors, ingredients, and specialties. From the rich, creamy sauces of the north to the bold, Mediterranean flavors of the south, there\\'s a world of flavors to explore.\\n5. **Emphasis on Cooking Techniques**: French cuisine places a strong emphasis on traditional cooking techniques, such as roasting, sautéing, and sauce-making. These techniques help to bring out the best in ingredients and create complex, harmonious flavors.\\n6. **Respect for the Art of Cooking**: French cuisine is often associated with a sense of artistry and creativity. Chefs are trained to think creatively and experiment with new ingredients and techniques, which helps to keep the culinary scene fresh and exciting.\\n\\nWhile opinions about the \"best\" food are subjective, France\\'s unique combination of history, tradition, high-quality ingredients, culinary expertise, biodiversity, and emphasis on cooking techniques have contributed to its reputation as a culinary powerhouse.'},\n",
       "   'finish_reason': 'stop'}],\n",
       " 'usage': {'prompt_tokens': 10, 'completion_tokens': 360, 'total_tokens': 370},\n",
       " 'sources': [],\n",
       " 'status': 'Done'}"
      ]
     },
     "execution_count": 21,
     "metadata": {},
     "output_type": "execute_result"
    }
   ],
   "source": [
    "# Check job output\n",
    "\n",
    "import requests\n",
    "\n",
    "url = f\"{BASE_URL}/jobs/out/{job_id}?status_only=false\"\n",
    "headers = {\n",
    "    \"Content-Type\": \"application/json\",\n",
    "    \"Authorization\": f\"Bearer {API_KEY}\"\n",
    "}\n",
    "\n",
    "response = requests.get(url, headers=headers)\n",
    "response.json()"
   ]
  },
  {
   "cell_type": "markdown",
   "metadata": {},
   "source": [
    "With requests"
   ]
  },
  {
   "cell_type": "code",
   "execution_count": 7,
   "metadata": {},
   "outputs": [
    {
     "name": "stdout",
     "output_type": "stream",
     "text": [
      "It is not possible for any spacecraft to land on the sun due to its incredibly high surface temperature of about 5500°C (10,000°F), which would vaporize any material that came into contact with it. Additionally, the sun's intense gravity would crush any spacecraft that got too close, making it impossible for it to survive the journey.\n"
     ]
    }
   ],
   "source": [
    "# With requests\n",
    "\n",
    "import requests\n",
    "\n",
    "url = f\"{BASE_URL}/chat/completions\"\n",
    "headers = {\n",
    "    \"Content-Type\": \"application/json\",\n",
    "    \"Authorization\": f\"Bearer {API_KEY}\"\n",
    "}\n",
    "data = {\n",
    "    \"model\": \"chat-v1\",\n",
    "    \"max_tokens\": 2000,\n",
    "    \"messages\": [\n",
    "        {\n",
    "            \"role\": \"system\",\n",
    "            \"content\": \"You have to answer user requests and follow carefully prompt requirements.\"\n",
    "        },\n",
    "        {\n",
    "            \"role\": \"user\",\n",
    "            \"content\": \"Is it possible to land on the sun? (answer in 2 sentences with a short explanation)\"\n",
    "        }\n",
    "    ]\n",
    "}\n",
    "\n",
    "response = requests.post(url, headers=headers, json=data)\n",
    "print(response.json()['choices'][0]['message']['content'])"
   ]
  },
  {
   "cell_type": "code",
   "execution_count": 3,
   "metadata": {},
   "outputs": [
    {
     "data": {
      "text/plain": [
       "{'id': '081004ec-48a6-4296-a5ab-c211bce7ef65',\n",
       " 'object': 'chat.completion',\n",
       " 'created': 1734425016,\n",
       " 'model': 'chat-v1',\n",
       " 'choices': [{'index': 0,\n",
       "   'message': {'role': 'assistant', 'content': ''},\n",
       "   'finish_reason': 'stop'}],\n",
       " 'usage': {'prompt_tokens': 0, 'completion_tokens': 0, 'total_tokens': 0},\n",
       " 'sources': []}"
      ]
     },
     "execution_count": 3,
     "metadata": {},
     "output_type": "execute_result"
    }
   ],
   "source": [
    "import requests\n",
    "\n",
    "url = f\"{BASE_URL}/chat/completions\"\n",
    "headers = {\n",
    "    \"Content-Type\": \"application/json\",\n",
    "    \"Authorization\": f\"Bearer {API_KEY}\"\n",
    "}\n",
    "data = {\n",
    "    \"model\": \"chat-v1\",\n",
    "    \"max_tokens\": 2000,\n",
    "    \"messages\": [\n",
    "        {\n",
    "            \"role\": \"system\",\n",
    "            \"content\": \"You have to answer user requests and follow carefully prompt requirements.\"\n",
    "        },\n",
    "        {\n",
    "            \"role\": \"user\",\n",
    "            \"content\": \"Is it possible to land on the sun? (answer in 2 sentences with a short explanation)\"\n",
    "        }\n",
    "    ],\n",
    "    \"deferred\": True\n",
    "}\n",
    "\n",
    "response = requests.post(url, headers=headers, json=data)\n",
    "response_dict = response.json()\n",
    "\n",
    "job_id = response_dict['id']\n",
    "response_dict"
   ]
  },
  {
   "cell_type": "code",
   "execution_count": null,
   "metadata": {},
   "outputs": [
    {
     "data": {
      "text/plain": [
       "{'messages': ['Is it possible to land on the sun? (answer in 2 sentences with a short explanation)'],\n",
       " 'max_tokens': 2000,\n",
       " 'stream': False,\n",
       " 'stop': None,\n",
       " 'n': 1,\n",
       " 'temperature': 1.0,\n",
       " 'top_k': 40,\n",
       " 'top_p': 0.9,\n",
       " 'presence_penalty': 0.0,\n",
       " 'frequency_penalty': 0.0,\n",
       " 'repetition_penalty': 1.0,\n",
       " 'seed': 0,\n",
       " 'model': 'chat-v1',\n",
       " 'deferred': True,\n",
       " 'rag': False,\n",
       " 'system': 'You have to answer user requests and follow carefully prompt requirements.',\n",
       " 'job_type': 'chat',\n",
       " 'status': 'Done'}"
      ]
     },
     "execution_count": 5,
     "metadata": {},
     "output_type": "execute_result"
    }
   ],
   "source": [
    "# Check job status\n",
    "\n",
    "import requests\n",
    "\n",
    "url = f\"{BASE_URL}/jobs/job/{job_id}?status_only=false\"\n",
    "headers = {\n",
    "    \"Content-Type\": \"application/json\",\n",
    "    \"Authorization\": f\"Bearer {API_KEY}\"\n",
    "}\n",
    "\n",
    "response = requests.get(url, headers=headers)\n",
    "response.json()"
   ]
  },
  {
   "cell_type": "code",
   "execution_count": 6,
   "metadata": {},
   "outputs": [
    {
     "data": {
      "text/plain": [
       "{'id': '081004ec-48a6-4296-a5ab-c211bce7ef65',\n",
       " 'object': 'chat.completion',\n",
       " 'created': 1734425030,\n",
       " 'model': 'chat-v1',\n",
       " 'choices': [{'index': 0,\n",
       "   'message': {'role': 'assistant',\n",
       "    'content': \"It is not possible for any object, including a spacecraft, to land on the sun because the sun's surface temperature is about 5,500°C (10,000°F), which is far beyond the melting point of any material, and the intense gravitational forces would cause any object to be torn apart. Additionally, the sun's gravity is so strong that even if a spacecraft could somehow withstand the heat, it would be pulled apart by the sun's tidal forces before it could even reach the surface.\"},\n",
       "   'finish_reason': 'stop'}],\n",
       " 'usage': {'prompt_tokens': 20, 'completion_tokens': 100, 'total_tokens': 120},\n",
       " 'sources': [],\n",
       " 'status': 'Done'}"
      ]
     },
     "execution_count": 6,
     "metadata": {},
     "output_type": "execute_result"
    }
   ],
   "source": [
    "# Check job output\n",
    "\n",
    "import requests\n",
    "\n",
    "url = f\"{BASE_URL}/jobs/out/{job_id}?status_only=false\"\n",
    "headers = {\n",
    "    \"Content-Type\": \"application/json\",\n",
    "    \"Authorization\": f\"Bearer {API_KEY}\"\n",
    "}\n",
    "\n",
    "response = requests.get(url, headers=headers)\n",
    "response.json()"
   ]
  },
  {
   "cell_type": "markdown",
   "metadata": {},
   "source": [
    "#### RAG"
   ]
  },
  {
   "cell_type": "markdown",
   "metadata": {},
   "source": [
    "#### Push documents"
   ]
  },
  {
   "cell_type": "markdown",
   "metadata": {},
   "source": [
    "You can directly push your documents (.pdf, .md, .docx)"
   ]
  },
  {
   "cell_type": "code",
   "execution_count": 15,
   "metadata": {},
   "outputs": [
    {
     "name": "stdout",
     "output_type": "stream",
     "text": [
      "Status code: 200\n",
      "Response: {'message': 'Documents pushed'}\n"
     ]
    }
   ],
   "source": [
    "import requests\n",
    "\n",
    "# For multiple files upload\n",
    "folder = \"client1\"\n",
    "url = f\"{BASE_URL}/rag/documents?folder={folder}\"\n",
    "files = [\n",
    "    (\"files\", (\"Diagnosis_and_Management_of_Heart_Failure.pdf\", open(\"../data/Diagnosis_and_Management_of_Heart_Failure.pdf\", \"rb\")))\n",
    "]\n",
    "headers = {\n",
    "    \"Authorization\": f\"Bearer {API_KEY}\"\n",
    "}\n",
    "\n",
    "response = requests.post(url, files=files, headers=headers)\n",
    "print(f\"Status code: {response.status_code}\")\n",
    "print(f\"Response: {response.json()}\")"
   ]
  },
  {
   "cell_type": "markdown",
   "metadata": {},
   "source": [
    "You can also directly push your markdown"
   ]
  },
  {
   "cell_type": "code",
   "execution_count": 17,
   "metadata": {},
   "outputs": [
    {
     "name": "stdout",
     "output_type": "stream",
     "text": [
      "Status code: 200\n",
      "Response: {'message': 'Documents pushed'}\n"
     ]
    }
   ],
   "source": [
    "import requests\n",
    "\n",
    "url = f\"{BASE_URL}/rag/markdown\"\n",
    "headers = {\n",
    "    \"Authorization\": f\"Bearer {API_KEY}\"\n",
    "}\n",
    "body = {\n",
    "    \"folder\": \"client1\",\n",
    "    \"filename\": \"test.md\",\n",
    "    \"filecontent\": \"# Title1\\n## Title2\\nTest document1\\n## Title3\\nTest document2\\n### Title4\\nHello\"\n",
    "}\n",
    "\n",
    "response = requests.post(url, headers=headers, json=body)\n",
    "print(f\"Status code: {response.status_code}\")\n",
    "print(f\"Response: {response.json()}\")"
   ]
  },
  {
   "cell_type": "markdown",
   "metadata": {},
   "source": [
    "#### List documents"
   ]
  },
  {
   "cell_type": "code",
   "execution_count": 18,
   "metadata": {},
   "outputs": [
    {
     "name": "stdout",
     "output_type": "stream",
     "text": [
      "{'env_type': 'DEV', 'files': [{'name': 'nuclear-astrophysics.pdf', 'file_type': 'pdf'}, {'name': 'test.md', 'file_type': 'md'}, {'name': 'Diagnosis_and_Management_of_Heart_Failure.pdf', 'file_type': 'pdf'}]}\n"
     ]
    }
   ],
   "source": [
    "import requests\n",
    "\n",
    "url = f\"https://api.vauban.cloud/v1/rag/documents\"\n",
    "headers = {\n",
    "    \"Authorization\": f\"Bearer {API_KEY}\"\n",
    "}\n",
    "\n",
    "response = requests.get(url, headers=headers)\n",
    "print(response.json())"
   ]
  },
  {
   "cell_type": "markdown",
   "metadata": {},
   "source": [
    "#### Delete documents"
   ]
  },
  {
   "cell_type": "code",
   "execution_count": 19,
   "metadata": {},
   "outputs": [
    {
     "name": "stdout",
     "output_type": "stream",
     "text": [
      "{'message': 'Documents deleted successfully'}\n"
     ]
    }
   ],
   "source": [
    "import requests\n",
    "\n",
    "url = f\"{BASE_URL}/rag/documents\"\n",
    "headers = {\n",
    "    \"Authorization\": f\"Bearer {API_KEY}\"\n",
    "}\n",
    "body = {\n",
    "    # Filenames you can get in the list documents endpoint\n",
    "    'filenames': ['test.md']\n",
    "}\n",
    "\n",
    "response = requests.delete(url, headers=headers, json=body)\n",
    "print(response.json())"
   ]
  },
  {
   "cell_type": "markdown",
   "metadata": {},
   "source": [
    "##### Query"
   ]
  },
  {
   "cell_type": "markdown",
   "metadata": {},
   "source": [
    "With OpenAI client sync version"
   ]
  },
  {
   "cell_type": "code",
   "execution_count": null,
   "metadata": {},
   "outputs": [
    {
     "name": "stdout",
     "output_type": "stream",
     "text": [
      "The study identified several associations between non-alcoholic fatty liver disease (NAFLD), liver fibrosis, and cardiac structural or functional disturbances in an Asian population.\n",
      "\n",
      "**Associations with NAFLD and Liver Fibrosis:**\n",
      "\n",
      "* The study found that individuals with NAFLD and liver fibrosis had higher levels of ectopic fat depots, including epicardial fat volume (EFV), compared to those without NAFLD or liver fibrosis.\n",
      "* NAFLD and liver fibrosis were associated with cardiac structural and functional disturbances, including diastolic dysfunction.\n",
      "\n",
      "**Key Findings:**\n",
      "\n",
      "* **Epicardial Fat Volume (EFV):** The study found that EFV was significantly higher in individuals with NAFLD and liver fibrosis, particularly in those with a high fibrosis score. This suggests that excessive visceral fat can accumulate as ectopic fat depots over vital organs, including the heart.\n",
      "* **Diastolic Function:** The study found that diastolic function was impaired in individuals with NAFLD and liver fibrosis, indicating that these conditions may contribute to cardiac structural and functional disturbances.\n",
      "* **Left Atrial Mechanics:** The study found that left atrial mechanics were affected in individuals with NAFLD and liver fibrosis, indicating that these conditions may also impact cardiac function.\n",
      "\n",
      "**Groups Assessed:**\n",
      "\n",
      "The study assessed 2161 participants and categorized them into three groups based on the NAFLD Fibrosis Score:\n",
      "\n",
      "1. Non-fatty liver\n",
      "2. Fatty liver with low fibrosis score\n",
      "3. Fatty liver with high fibrosis score\n",
      "\n",
      "The study's findings suggest that NAFLD and liver fibrosis are associated with cardiac structural and functional disturbances, including increased EFV, diastolic dysfunction, and impaired left atrial mechanics, particularly in individuals with a high fibrosis score.\n",
      "CompletionUsage(completion_tokens=371, prompt_tokens=1024, total_tokens=1395, completion_tokens_details=None, prompt_tokens_details=None)\n",
      "['Diagnosis_and_Management_of_Heart_Failure.pdf']\n"
     ]
    }
   ],
   "source": [
    "# With OpenAI\n",
    "\n",
    "from openai import OpenAI\n",
    "\n",
    "client = OpenAI(\n",
    "    api_key=API_KEY,\n",
    "    base_url=BASE_URL\n",
    ")\n",
    "\n",
    "query = \"\"\"\n",
    "What associations did the study identify between non-alcoholic fatty liver disease (NAFLD),\n",
    "liver fibrosis, and cardiac structural or functional disturbances in an Asian population?\n",
    "Highlight the key findings regarding epicardial fat volume (EFV), diastolic function, and left atrial mechanics.\n",
    "\"\"\"\n",
    "\n",
    "response = client.chat.completions.create(\n",
    "    model=\"fast-v1\",\n",
    "    max_tokens=1000,\n",
    "    messages=[\n",
    "        {\n",
    "            \"role\": \"user\",\n",
    "            \"content\": query\n",
    "        }\n",
    "    ],\n",
    "    extra_body={\"rag\": True}\n",
    ")\n",
    "\n",
    "print(response.choices[0].message.content)\n",
    "print(response.usage)\n",
    "print(response.sources)"
   ]
  },
  {
   "cell_type": "markdown",
   "metadata": {},
   "source": [
    "With requests Sync version"
   ]
  },
  {
   "cell_type": "code",
   "execution_count": 21,
   "metadata": {},
   "outputs": [
    {
     "name": "stdout",
     "output_type": "stream",
     "text": [
      "Based on the provided document, here are the key associations and findings identified in the study:\n",
      "\n",
      "**Associations:**\n",
      "\n",
      "* The study found associations between non-alcoholic fatty liver disease (NAFLD) and liver fibrosis with:\n",
      "\t+ Epicardial Adipose Tissue Volume (EATV)\n",
      "\t+ Atrial Deformation Mechanics (i.e., diastolic function and left atrial mechanics)\n",
      "* These associations were observed in a large Asian population free from clinical heart failure.\n",
      "\n",
      "**Key Findings:**\n",
      "\n",
      "* **Epicardial Fat Volume (EFV):** The study found that:\n",
      "\t+ EFV was significantly higher in participants with NAFLD and liver fibrosis compared to those without NAFLD and liver fibrosis.\n",
      "\t+ The association between EFV and NAFLD and liver fibrosis was stronger in participants with higher fibrosis scores.\n",
      "* **Diastolic Function:** The study found that:\n",
      "\t+ Participants with NAFLD and liver fibrosis had lower diastolic function (atrial deformation mechanics) compared to those without NAFLD and liver fibrosis.\n",
      "* **Left Atrial Mechanics:** The study found that:\n",
      "\t+ Participants with NAFLD and liver fibrosis had altered left atrial mechanics, which were associated with increased EFV.\n",
      "\n",
      "These findings suggest that NAFLD and liver fibrosis may be linked to cardiac structural and functional disturbances, particularly in terms of epicardial fat volume, diastolic function, and left atrial mechanics.\n"
     ]
    }
   ],
   "source": [
    "query = \"\"\"\n",
    "What associations did the study identify between non-alcoholic fatty liver disease (NAFLD),\n",
    "liver fibrosis, and cardiac structural or functional disturbances in an Asian population?\n",
    "Highlight the key findings regarding epicardial fat volume (EFV), diastolic function, and left atrial mechanics.\n",
    "\"\"\"\n",
    "\n",
    "url = f\"{BASE_URL}/chat/completions\"\n",
    "headers = {\n",
    "    \"Content-Type\": \"application/json\",\n",
    "    \"Authorization\": f\"Bearer {API_KEY}\"\n",
    "}\n",
    "body = {\n",
    "    \"model\": \"chat-v1\",\n",
    "    \"max_tokens\": 1000,\n",
    "    \"messages\": [\n",
    "        {\n",
    "            \"role\": \"user\",\n",
    "            \"content\": query\n",
    "        }\n",
    "    ],\n",
    "    \"rag\": True\n",
    "}\n",
    "response = requests.post(url, json=body, headers=headers)\n",
    "print(response.json()['choices'][0]['message']['content'])"
   ]
  },
  {
   "cell_type": "markdown",
   "metadata": {},
   "source": [
    "With OpenAI client async version"
   ]
  },
  {
   "cell_type": "code",
   "execution_count": 24,
   "metadata": {},
   "outputs": [
    {
     "name": "stdout",
     "output_type": "stream",
     "text": [
      "ChatCompletion(id='27a0e565-653b-44c6-a102-14671a58b15e', choices=[Choice(finish_reason='stop', index=0, logprobs=None, message=ChatCompletionMessage(content='', refusal=None, role='assistant', audio=None, function_call=None, tool_calls=None))], created=1735210060, model='fast-v1', object='chat.completion', service_tier=None, system_fingerprint=None, usage=CompletionUsage(completion_tokens=0, prompt_tokens=0, total_tokens=0, completion_tokens_details=None, prompt_tokens_details=None), sources=[])\n"
     ]
    }
   ],
   "source": [
    "# With OpenAI\n",
    "\n",
    "from openai import OpenAI\n",
    "\n",
    "client = OpenAI(\n",
    "    api_key=API_KEY,\n",
    "    base_url=BASE_URL\n",
    ")\n",
    "\n",
    "query = \"\"\"\n",
    "What associations did the study identify between non-alcoholic fatty liver disease (NAFLD),\n",
    "liver fibrosis, and cardiac structural or functional disturbances in an Asian population?\n",
    "Highlight the key findings regarding epicardial fat volume (EFV), diastolic function, and left atrial mechanics.\n",
    "\"\"\"\n",
    "\n",
    "response = client.chat.completions.create(\n",
    "    model=\"fast-v1\",\n",
    "    max_tokens=1000,\n",
    "    messages=[\n",
    "        {\n",
    "            \"role\": \"user\",\n",
    "            \"content\": query\n",
    "        }\n",
    "    ],\n",
    "    extra_body={\"rag\": True, \"deferred\": True}\n",
    ")\n",
    "\n",
    "print(response)"
   ]
  },
  {
   "cell_type": "markdown",
   "metadata": {},
   "source": [
    "With requests async version"
   ]
  },
  {
   "cell_type": "code",
   "execution_count": 25,
   "metadata": {},
   "outputs": [
    {
     "data": {
      "text/plain": [
       "{'id': 'a8357688-7f41-4408-bb3a-34fd42efd217',\n",
       " 'object': 'chat.completion',\n",
       " 'created': 1735210079,\n",
       " 'model': 'chat-v1',\n",
       " 'choices': [{'index': 0,\n",
       "   'message': {'role': 'assistant', 'content': ''},\n",
       "   'finish_reason': 'stop'}],\n",
       " 'usage': {'prompt_tokens': 0, 'completion_tokens': 0, 'total_tokens': 0},\n",
       " 'sources': []}"
      ]
     },
     "execution_count": 25,
     "metadata": {},
     "output_type": "execute_result"
    }
   ],
   "source": [
    "query = \"\"\"\n",
    "What associations did the study identify between non-alcoholic fatty liver disease (NAFLD),\n",
    "liver fibrosis, and cardiac structural or functional disturbances in an Asian population?\n",
    "Highlight the key findings regarding epicardial fat volume (EFV), diastolic function, and left atrial mechanics.\n",
    "\"\"\"\n",
    "\n",
    "url = f\"{BASE_URL}/chat/completions\"\n",
    "headers = {\n",
    "    \"Content-Type\": \"application/json\",\n",
    "    \"Authorization\": f\"Bearer {API_KEY}\"\n",
    "}\n",
    "body = {\n",
    "    \"model\": \"chat-v1\",\n",
    "    \"max_tokens\": 1000,\n",
    "    \"messages\": [\n",
    "        {\n",
    "            \"role\": \"user\",\n",
    "            \"content\": query\n",
    "        }\n",
    "    ],\n",
    "    \"rag\": True,\n",
    "    \"deferred\": True # For async mode\n",
    "}\n",
    "response = requests.post(url, json=body, headers=headers)\n",
    "job_id = response.json()['id']\n",
    "response.json()"
   ]
  },
  {
   "cell_type": "code",
   "execution_count": 26,
   "metadata": {},
   "outputs": [
    {
     "data": {
      "text/plain": [
       "{'messages': ['\\nWhat associations did the study identify between non-alcoholic fatty liver disease (NAFLD),\\nliver fibrosis, and cardiac structural or functional disturbances in an Asian population?\\nHighlight the key findings regarding epicardial fat volume (EFV), diastolic function, and left atrial mechanics.\\n'],\n",
       " 'max_tokens': 1000,\n",
       " 'stream': False,\n",
       " 'stop': None,\n",
       " 'n': 1,\n",
       " 'temperature': 1.0,\n",
       " 'top_k': 40,\n",
       " 'top_p': 0.9,\n",
       " 'presence_penalty': 0.0,\n",
       " 'frequency_penalty': 0.0,\n",
       " 'repetition_penalty': 1.0,\n",
       " 'seed': 0,\n",
       " 'model': 'chat-v1',\n",
       " 'deferred': True,\n",
       " 'rag': True,\n",
       " 'job_type': 'chat',\n",
       " 'status': 'Queued'}"
      ]
     },
     "execution_count": 26,
     "metadata": {},
     "output_type": "execute_result"
    }
   ],
   "source": [
    "# Check job status\n",
    "\n",
    "import requests\n",
    "\n",
    "url = f\"{BASE_URL}/jobs/job/{job_id}?status_only=false\"\n",
    "headers = {\n",
    "    \"Content-Type\": \"application/json\",\n",
    "    \"Authorization\": f\"Bearer {API_KEY}\"\n",
    "}\n",
    "\n",
    "response = requests.get(url, headers=headers)\n",
    "response.json()"
   ]
  },
  {
   "cell_type": "code",
   "execution_count": 29,
   "metadata": {},
   "outputs": [
    {
     "data": {
      "text/plain": [
       "{'id': 'a8357688-7f41-4408-bb3a-34fd42efd217',\n",
       " 'object': 'chat.completion',\n",
       " 'created': 1735210096,\n",
       " 'model': 'chat-v1',\n",
       " 'choices': [{'index': 0,\n",
       "   'message': {'role': 'assistant',\n",
       "    'content': 'Based on the provided document, the study identified the following associations between non-alcoholic fatty liver disease (NAFLD), liver fibrosis, and cardiac structural or functional disturbances in an Asian population:\\n\\n1. **Epicardial Fat Volume (EFV):** The study found a positive association between NAFLD and liver fibrosis with increased epicardial fat volume (EFV). Specifically, the EFV was significantly higher in participants with fatty liver and high fibrosis score compared to those with non-fatty liver.\\n2. **Diastolic Function:** The study reported that NAFLD and liver fibrosis were associated with impaired diastolic function. Participants with fatty liver and high fibrosis score had reduced diastolic function compared to those with non-fatty liver.\\n3. **Left Atrial Mechanics:** The study found that NAFLD and liver fibrosis were associated with altered left atrial mechanics. Specifically, participants with fatty liver and high fibrosis score had increased left atrial strain rate and decreased left atrial stiffness compared to those with non-fatty liver.\\n\\nThese associations suggest that NAFLD and liver fibrosis are linked to cardiac structural and functional disturbances, including increased EFV, impaired diastolic function, and altered left atrial mechanics, in an Asian population.\\n\\nKey findings:\\n\\n* The study assessed 2161 participants using ultrasound and categorized them into three groups: non-fatty liver, fatty liver with low fibrosis score, and fatty liver with high fibrosis score.\\n* Epicardial fat volume (EFV) was measured through multidetector computed tomography.\\n* The study used the NAFLD Fibrosis Score to assess the presence and severity of NAFLD and liver fibrosis.\\n\\nThese findings highlight the importance of assessing NAFLD and liver fibrosis in patients with cardiac structural and functional disturbances.'},\n",
       "   'finish_reason': 'stop'}],\n",
       " 'usage': {'prompt_tokens': 1024,\n",
       "  'completion_tokens': 372,\n",
       "  'total_tokens': 1396},\n",
       " 'sources': ['Diagnosis_and_Management_of_Heart_Failure.pdf'],\n",
       " 'status': 'Done'}"
      ]
     },
     "execution_count": 29,
     "metadata": {},
     "output_type": "execute_result"
    }
   ],
   "source": [
    "# Check job output\n",
    "\n",
    "import requests\n",
    "\n",
    "url = f\"{BASE_URL}/jobs/out/{job_id}?status_only=false\"\n",
    "headers = {\n",
    "    \"Content-Type\": \"application/json\",\n",
    "    \"Authorization\": f\"Bearer {API_KEY}\"\n",
    "}\n",
    "\n",
    "response = requests.get(url, headers=headers)\n",
    "response.json()"
   ]
  },
  {
   "cell_type": "code",
   "execution_count": null,
   "metadata": {},
   "outputs": [],
   "source": []
  }
 ],
 "metadata": {
  "kernelspec": {
   "display_name": ".venv",
   "language": "python",
   "name": "python3"
  },
  "language_info": {
   "codemirror_mode": {
    "name": "ipython",
    "version": 3
   },
   "file_extension": ".py",
   "mimetype": "text/x-python",
   "name": "python",
   "nbconvert_exporter": "python",
   "pygments_lexer": "ipython3",
   "version": "3.12.6"
  }
 },
 "nbformat": 4,
 "nbformat_minor": 2
}
